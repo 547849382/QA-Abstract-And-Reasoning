{
  "cells": [
    {
      "cell_type": "code",
      "execution_count": 5,
      "metadata": {
        "collapsed": true,
        "pycharm": {
          "is_executing": false
        }
      },
      "outputs": [],
      "source": "import numpy as np\nimport pandas as pd\n\n"
    },
    {
      "cell_type": "markdown",
      "source": "老师，我打比赛遇到一个方法，对句子按长度排序，再分batch，再取batch里最长的\n\n我也是，copy别人的代码。里面只对当前batch里面取最大值。不同Batch maxlen长度可以不一样，同一个Batch一样即可 \n\n开始就加标志会影响其他词向量的结果\n\n为什么不直接删除",
      "metadata": {
        "pycharm": {
          "metadata": false
        }
      }
    },
    {
      "cell_type": "code",
      "execution_count": null,
      "outputs": [],
      "source": "",
      "metadata": {
        "pycharm": {
          "metadata": false,
          "name": "#%%\n"
        }
      }
    },
    {
      "cell_type": "code",
      "execution_count": 13,
      "outputs": [],
      "source": "df \u003d pd.read_csv(\u0027data/proc_text.txt\u0027, header\u003dNone)",
      "metadata": {
        "pycharm": {
          "metadata": false,
          "name": "#%%\n",
          "is_executing": false
        }
      }
    },
    {
      "cell_type": "code",
      "execution_count": 22,
      "outputs": [],
      "source": "fre \u003d df[0].apply(lambda x: len(x.split(\" \")))\n",
      "metadata": {
        "pycharm": {
          "metadata": false,
          "name": "#%%\n",
          "is_executing": false
        }
      }
    },
    {
      "cell_type": "code",
      "execution_count": 29,
      "outputs": [
        {
          "data": {
            "text/plain": "\u003cFigure size 432x288 with 1 Axes\u003e",
            "image/png": "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\u003d\u003d\n"
          },
          "metadata": {},
          "output_type": "display_data"
        }
      ],
      "source": "import matplotlib.pyplot as plt\n\nplt.hist(fre, range\u003d(0,100))\nplt.show()",
      "metadata": {
        "pycharm": {
          "metadata": false,
          "name": "#%%\n",
          "is_executing": false
        }
      }
    },
    {
      "cell_type": "code",
      "execution_count": null,
      "outputs": [],
      "source": "\n",
      "metadata": {
        "pycharm": {
          "metadata": false,
          "name": "#%%\n"
        }
      }
    }
  ],
  "metadata": {
    "language_info": {
      "codemirror_mode": {
        "name": "ipython",
        "version": 2
      },
      "file_extension": ".py",
      "mimetype": "text/x-python",
      "name": "python",
      "nbconvert_exporter": "python",
      "pygments_lexer": "ipython2",
      "version": "2.7.6"
    },
    "kernelspec": {
      "name": "python3",
      "language": "python",
      "display_name": "Python 3"
    }
  },
  "nbformat": 4,
  "nbformat_minor": 0
}