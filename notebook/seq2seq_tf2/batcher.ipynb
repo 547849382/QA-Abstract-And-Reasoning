{
 "cells": [
  {
   "cell_type": "code",
   "execution_count": 8,
   "metadata": {},
   "outputs": [
    {
     "name": "stdout",
     "output_type": "stream",
     "text": [
      "The autoreload extension is already loaded. To reload it, use:\n",
      "  %reload_ext autoreload\n"
     ]
    }
   ],
   "source": [
    "%load_ext autoreload\n",
    "%autoreload 2\n",
    "import sys\n",
    "import os\n",
    "import re\n",
    "os.chdir(\"E:\\\\GitHub\\\\QA-abstract-and-reasoning\")\n",
    "sys.path.append(\"E:\\\\GitHub\\\\QA-abstract-and-reasoning\")"
   ]
  },
  {
   "cell_type": "code",
   "execution_count": 26,
   "metadata": {},
   "outputs": [],
   "source": [
    "# from batcher import *\n",
    "from utils.saveLoader import Vocab\n",
    "from utils.config import VOCAB_PAD\n",
    "import tensorflow as tf\n",
    "vocab = Vocab(VOCAB_PAD)"
   ]
  },
  {
   "cell_type": "code",
   "execution_count": 13,
   "metadata": {},
   "outputs": [],
   "source": [
    "%run ./utils/params"
   ]
  },
  {
   "cell_type": "code",
   "execution_count": 14,
   "metadata": {
    "scrolled": false
   },
   "outputs": [
    {
     "data": {
      "text/plain": [
       "{'mode': 'train',\n",
       " 'decode_mode': 'greedy',\n",
       " 'max_enc_len': 302,\n",
       " 'max_dec_len': 37,\n",
       " 'batch_size': 64,\n",
       " 'epochs': 2,\n",
       " 'vocab_path': 'E:\\\\GitHub\\\\QA-abstract-and-reasoning\\\\data\\\\wv\\\\vocab_index_pad.txt',\n",
       " 'learning_rate': 0.01,\n",
       " 'adagrad_init_acc': 0.1,\n",
       " 'max_grad_norm': 0.8,\n",
       " 'vocab_size': 14704,\n",
       " 'beam_size': 3,\n",
       " 'embed_size': 300,\n",
       " 'enc_units': 256,\n",
       " 'dec_units': 256,\n",
       " 'attn_units': 10,\n",
       " 'train_seg_x_dir': 'E:\\\\GitHub\\\\QA-abstract-and-reasoning\\\\data\\\\train_seg_x.csv',\n",
       " 'train_seg_y_dir': 'E:\\\\GitHub\\\\QA-abstract-and-reasoning\\\\data\\\\train_seg_y.csv',\n",
       " 'test_seg_x_dir': 'E:\\\\GitHub\\\\QA-abstract-and-reasoning\\\\data\\\\test_seg_x.csv',\n",
       " 'checkpoints_save_steps': 2,\n",
       " 'min_dec_steps': 4,\n",
       " 'max_train_steps': 1296,\n",
       " 'train_pickle_dir': 'E:\\\\GitHub\\\\QA-abstract-and-reasoning\\\\data\\\\dataset',\n",
       " 'save_batch_train_data': False,\n",
       " 'load_batch_train_data': False,\n",
       " 'test_save_dir': True,\n",
       " 'test_run': False,\n",
       " 'greedy_decode': True,\n",
       " 'result_save_path': 'E:\\\\GitHub\\\\QA-abstract-and-reasoning\\\\data\\\\result\\\\test_res.csv'}"
      ]
     },
     "execution_count": 14,
     "metadata": {},
     "output_type": "execute_result"
    }
   ],
   "source": [
    "params"
   ]
  },
  {
   "cell_type": "code",
   "execution_count": 401,
   "metadata": {},
   "outputs": [],
   "source": [
    "from seq2seq_tf2.batcher import *"
   ]
  },
  {
   "cell_type": "code",
   "execution_count": 417,
   "metadata": {},
   "outputs": [],
   "source": [
    "ds = iter(batcher(vocab, params))"
   ]
  }
 ],
 "metadata": {
  "kernelspec": {
   "display_name": "Python [conda env:tf2.0]",
   "language": "python",
   "name": "conda-env-tf2.0-py"
  },
  "language_info": {
   "codemirror_mode": {
    "name": "ipython",
    "version": 3
   },
   "file_extension": ".py",
   "mimetype": "text/x-python",
   "name": "python",
   "nbconvert_exporter": "python",
   "pygments_lexer": "ipython3",
   "version": "3.7.4"
  },
  "toc": {
   "base_numbering": 1,
   "nav_menu": {},
   "number_sections": true,
   "sideBar": true,
   "skip_h1_title": false,
   "title_cell": "Table of Contents",
   "title_sidebar": "Contents",
   "toc_cell": false,
   "toc_position": {},
   "toc_section_display": true,
   "toc_window_display": false
  }
 },
 "nbformat": 4,
 "nbformat_minor": 2
}
