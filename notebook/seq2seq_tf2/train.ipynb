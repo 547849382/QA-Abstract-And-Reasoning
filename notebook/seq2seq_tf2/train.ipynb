{
 "cells": [
  {
   "cell_type": "code",
   "execution_count": 2,
   "metadata": {},
   "outputs": [
    {
     "name": "stdout",
     "output_type": "stream",
     "text": [
      "The autoreload extension is already loaded. To reload it, use:\n",
      "  %reload_ext autoreload\n"
     ]
    }
   ],
   "source": [
    "%load_ext autoreload\n",
    "%autoreload 2\n",
    "import os\n",
    "import sys\n",
    "import time\n",
    "import tensorflow as tf\n",
    "sys.path.append(\"E:\\\\GitHub\\\\QA-abstract-and-reasoning\")\n",
    "os.chdir(\"E:\\\\GitHub\\\\QA-abstract-and-reasoning\")"
   ]
  },
  {
   "cell_type": "code",
   "execution_count": 2,
   "metadata": {},
   "outputs": [
    {
     "name": "stdout",
     "output_type": "stream",
     "text": [
      "1 Physical GPUs, 1 Logical GPUs\n",
      "Building the model ...\n",
      "Restored from E:\\GitHub\\QA-abstract-and-reasoning\\data\\checkpoints\\seq2seq_checkpoints\\ckpt-2\n",
      "开始训练模型..\n",
      "mode: train\n",
      "epochs: 4\n",
      "batch_size: 64\n",
      "max_enc_len: 308\n",
      "max_dec_len: 38\n",
      "Epoch 1 Batch 0 Loss 2.7212\n",
      "Epoch 1 Batch 50 Loss 2.2252\n",
      "Epoch 1 Batch 100 Loss 1.8139\n",
      "Epoch 1 Batch 150 Loss 1.6199\n",
      "Epoch 1 Batch 200 Loss 1.3821\n",
      "Epoch 1 Batch 250 Loss 1.6555\n",
      "Epoch 1 Batch 300 Loss 1.7767\n",
      "Epoch 1 Batch 350 Loss 1.6309\n",
      "Epoch 1 Batch 400 Loss 1.6494\n",
      "Epoch 1 Batch 450 Loss 1.7671\n",
      "Epoch 1 Batch 500 Loss 1.8883\n",
      "Epoch 1 Batch 550 Loss 1.8629\n",
      "Epoch 1 Batch 600 Loss 1.7810\n",
      "Epoch 1 Batch 650 Loss 1.5283\n",
      "Epoch 1 Batch 700 Loss 1.8166\n",
      "Epoch 1 Batch 750 Loss 1.8368\n",
      "Epoch 1 Batch 800 Loss 2.1265\n",
      "Epoch 1 Batch 850 Loss 2.2582\n",
      "Epoch 1 Batch 900 Loss 2.0461\n",
      "Epoch 1 Batch 950 Loss 2.2090\n",
      "Epoch 1 Batch 1000 Loss 2.0543\n",
      "Epoch 1 Batch 1050 Loss 2.2611\n",
      "Epoch 1 Batch 1100 Loss 1.6888\n",
      "Epoch 1 Batch 1150 Loss 1.8560\n",
      "Epoch 1 Batch 1200 Loss 1.6386\n",
      "Epoch 1 Batch 1250 Loss 1.5772\n",
      "Epoch 1 Loss 1.8795\n",
      "Time taken for 1 epoch 893.3334357738495 sec\n",
      "\n",
      "Epoch 2 Batch 0 Loss 2.5347\n",
      "Epoch 2 Batch 50 Loss 2.3998\n",
      "Epoch 2 Batch 100 Loss 1.7433\n",
      "Epoch 2 Batch 150 Loss 1.5714\n",
      "Epoch 2 Batch 200 Loss 1.4540\n",
      "Epoch 2 Batch 250 Loss 1.4206\n",
      "Epoch 2 Batch 300 Loss 1.7954\n",
      "Epoch 2 Batch 350 Loss 1.9625\n",
      "Epoch 2 Batch 400 Loss 1.6124\n",
      "Epoch 2 Batch 450 Loss 1.8638\n",
      "Epoch 2 Batch 500 Loss 1.8259\n",
      "Epoch 2 Batch 550 Loss 1.7318\n",
      "Epoch 2 Batch 600 Loss 2.0129\n",
      "Epoch 2 Batch 650 Loss 1.3760\n",
      "Epoch 2 Batch 700 Loss 1.7390\n",
      "Epoch 2 Batch 750 Loss 1.7925\n",
      "Epoch 2 Batch 800 Loss 2.1420\n",
      "Epoch 2 Batch 850 Loss 1.9485\n",
      "Epoch 2 Batch 900 Loss 2.0868\n",
      "Epoch 2 Batch 950 Loss 2.1984\n",
      "Epoch 2 Batch 1000 Loss 2.2062\n",
      "Epoch 2 Batch 1050 Loss 1.8033\n",
      "Epoch 2 Batch 1100 Loss 2.1862\n",
      "Epoch 2 Batch 1150 Loss 1.8616\n",
      "Epoch 2 Batch 1200 Loss 1.4370\n",
      "Epoch 2 Batch 1250 Loss 1.6476\n",
      "Saving checkpoint for epoch 2 at E:\\GitHub\\QA-abstract-and-reasoning\\data\\checkpoints\\seq2seq_checkpoints\\ckpt-3\n",
      "Epoch 2 Loss 1.8641\n",
      "Time taken for 1 epoch 821.1757545471191 sec\n",
      "\n",
      "Epoch 3 Batch 0 Loss 2.5752\n",
      "Epoch 3 Batch 50 Loss 1.8957\n",
      "Epoch 3 Batch 100 Loss 1.5622\n",
      "Epoch 3 Batch 150 Loss 1.2776\n",
      "Epoch 3 Batch 200 Loss 1.5015\n",
      "Epoch 3 Batch 250 Loss 1.5162\n",
      "Epoch 3 Batch 300 Loss 1.8676\n",
      "Epoch 3 Batch 350 Loss 1.7011\n",
      "Epoch 3 Batch 400 Loss 1.4655\n",
      "Epoch 3 Batch 450 Loss 1.8185\n",
      "Epoch 3 Batch 500 Loss 1.8291\n",
      "Epoch 3 Batch 550 Loss 1.8409\n",
      "Epoch 3 Batch 600 Loss 1.9635\n",
      "Epoch 3 Batch 650 Loss 1.5772\n",
      "Epoch 3 Batch 700 Loss 1.3918\n",
      "Epoch 3 Batch 750 Loss 1.9452\n",
      "Epoch 3 Batch 800 Loss 2.0603\n",
      "Epoch 3 Batch 850 Loss 1.9099\n",
      "Epoch 3 Batch 900 Loss 2.3320\n",
      "Epoch 3 Batch 950 Loss 1.8332\n",
      "Epoch 3 Batch 1000 Loss 1.9304\n",
      "Epoch 3 Batch 1050 Loss 2.1192\n",
      "Epoch 3 Batch 1100 Loss 1.8326\n",
      "Epoch 3 Batch 1150 Loss 2.0601\n",
      "Epoch 3 Batch 1200 Loss 1.5246\n",
      "Epoch 3 Batch 1250 Loss 1.5164\n",
      "Epoch 3 Loss 1.8175\n",
      "Time taken for 1 epoch 863.2569658756256 sec\n",
      "\n",
      "Epoch 4 Batch 0 Loss 2.6729\n",
      "Epoch 4 Batch 50 Loss 2.1150\n",
      "Epoch 4 Batch 100 Loss 1.7721\n",
      "Epoch 4 Batch 150 Loss 1.7283\n",
      "Epoch 4 Batch 200 Loss 1.4905\n",
      "Epoch 4 Batch 250 Loss 1.3564\n",
      "Epoch 4 Batch 300 Loss 2.0431\n",
      "Epoch 4 Batch 350 Loss 1.7448\n",
      "Epoch 4 Batch 400 Loss 1.5967\n",
      "Epoch 4 Batch 450 Loss 1.7896\n",
      "Epoch 4 Batch 500 Loss 1.9407\n",
      "Epoch 4 Batch 550 Loss 1.9647\n",
      "Epoch 4 Batch 600 Loss 1.7469\n",
      "Epoch 4 Batch 650 Loss 1.3884\n",
      "Epoch 4 Batch 700 Loss 1.5029\n",
      "Epoch 4 Batch 750 Loss 1.7879\n",
      "Epoch 4 Batch 800 Loss 2.0226\n",
      "Epoch 4 Batch 850 Loss 2.1356\n",
      "Epoch 4 Batch 900 Loss 1.9987\n",
      "Epoch 4 Batch 950 Loss 1.9823\n",
      "Epoch 4 Batch 1000 Loss 1.8764\n",
      "Epoch 4 Batch 1050 Loss 2.0536\n",
      "Epoch 4 Batch 1100 Loss 1.6091\n",
      "Epoch 4 Batch 1150 Loss 2.0112\n",
      "Epoch 4 Batch 1200 Loss 1.5788\n",
      "Epoch 4 Batch 1250 Loss 1.5289\n",
      "Saving checkpoint for epoch 4 at E:\\GitHub\\QA-abstract-and-reasoning\\data\\checkpoints\\seq2seq_checkpoints\\ckpt-4\n",
      "Epoch 4 Loss 1.7973\n",
      "Time taken for 1 epoch 839.8954446315765 sec\n",
      "\n"
     ]
    }
   ],
   "source": [
    "%run seq2seq_tf2/train.py --epochs 4"
   ]
  },
  {
   "cell_type": "code",
   "execution_count": 3,
   "metadata": {},
   "outputs": [
    {
     "name": "stdout",
     "output_type": "stream",
     "text": [
      "1 Physical GPUs, 1 Logical GPUs\n",
      "Building the model ...\n",
      "Creating the vocab ...\n",
      "Creating the checkpoint manager\n",
      "Creating the checkpoint manager\n",
      "Restored from E:\\GitHub\\QA-abstract-and-reasoning\\data\\checkpoints\\seq2seq_checkpoints\\ckpt-4\n",
      "Model restored\n"
     ]
    },
    {
     "name": "stderr",
     "output_type": "stream",
     "text": [
      "100%|██████████████████████████████████████████████████████████████████████████████████| 79/79 [01:03<00:00,  1.25it/s]\n"
     ]
    }
   ],
   "source": [
    "%run seq2seq_tf2/test.py --mode \"test\" --batch_size 3"
   ]
  }
 ],
 "metadata": {
  "kernelspec": {
   "display_name": "Python [conda env:tf2.0]",
   "language": "python",
   "name": "conda-env-tf2.0-py"
  },
  "language_info": {
   "codemirror_mode": {
    "name": "ipython",
    "version": 3
   },
   "file_extension": ".py",
   "mimetype": "text/x-python",
   "name": "python",
   "nbconvert_exporter": "python",
   "pygments_lexer": "ipython3",
   "version": "3.7.4"
  },
  "toc": {
   "base_numbering": 1,
   "nav_menu": {},
   "number_sections": true,
   "sideBar": true,
   "skip_h1_title": false,
   "title_cell": "Table of Contents",
   "title_sidebar": "Contents",
   "toc_cell": false,
   "toc_position": {},
   "toc_section_display": true,
   "toc_window_display": false
  }
 },
 "nbformat": 4,
 "nbformat_minor": 2
}
